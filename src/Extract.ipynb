{
 "cells": [
  {
   "cell_type": "markdown",
   "metadata": {},
   "source": [
    "# Objective\n",
    "\n",
    "This notebook was created to extract the data from the [MOSAIC.xlsx](../MOSAIC.xlsx) file and save it in a more convenient format."
   ]
  },
  {
   "cell_type": "code",
   "execution_count": 3,
   "metadata": {},
   "outputs": [],
   "source": [
    "import pandas as pd"
   ]
  },
  {
   "cell_type": "code",
   "execution_count": null,
   "metadata": {},
   "outputs": [],
   "source": [
    "# \"Background\" sheet\n",
    "\n",
    "background_df = pd.read_excel('../MOSAIC.xlsx', sheet_name='Background')\n",
    "background_df = background_df.iloc[:, [0, -1, -2, -3, -4]] # Select the columns of interest\n",
    "background_df.columns = background_df.columns.str.strip() # Remove leading/trailing whitespaces\n",
    "background_df = background_df.drop(0) # Remove the first row (it contains the units)\n",
    "background_df = background_df.infer_objects(copy=False) # Infer the data types\n",
    "background_df = background_df.fillna(0) # Replace NaN with 0\n",
    "background_df.to_csv('../data/Background.csv', index=False)\n",
    "background_df.head()"
   ]
  },
  {
   "cell_type": "code",
   "execution_count": null,
   "metadata": {},
   "outputs": [],
   "source": [
    "# \"EE\" sheet\n",
    "\n",
    "ee_df = pd.read_excel('../MOSAIC.xlsx', sheet_name='EE')\n",
    "ee_df = ee_df.iloc[:, [0, -1, -2, -3, -4]] # Select the columns of interest\n",
    "ee_df.columns = ['Wavelength', 'EE-IFU-ZA45 Durham', 'EE-HR-ZA45 Durham VIS', 'EE-LR-ZA45 Durham NIR', 'EE-LR-ZA45 Durham VIS'] # Rename the columns\n",
    "ee_df = ee_df.drop(0) # Remove the first row\n",
    "ee_df = ee_df.infer_objects(copy=False) # Infer the data types\n",
    "ee_df = ee_df.fillna(0) # Replace NaN with 0\n",
    "ee_df.to_csv('../data/EE.csv', index=False)\n",
    "ee_df"
   ]
  },
  {
   "cell_type": "code",
   "execution_count": null,
   "metadata": {},
   "outputs": [],
   "source": [
    "# \"Throughput\" sheet\n",
    "\n",
    "throughput_df = pd.read_excel('../MOSAIC.xlsx', sheet_name='Throughput', usecols='O:T', skiprows=1)\n",
    "throughput_df.columns = ['Wavelength LR', 'VIS-LR', 'NIR-LR', 'Wavelength HR', 'VIS-HR', 'NIR-HR'] # Rename the columns\n",
    "throughput_df = throughput_df.infer_objects(copy=False) # Infer the data types\n",
    "throughput_df = throughput_df.fillna(0) # Replace NaN with 0\n",
    "throughput_df.to_csv('../data/Throughput.csv', index=False)\n",
    "throughput_df.head()"
   ]
  }
 ],
 "metadata": {
  "kernelspec": {
   "display_name": ".venv",
   "language": "python",
   "name": "python3"
  },
  "language_info": {
   "codemirror_mode": {
    "name": "ipython",
    "version": 3
   },
   "file_extension": ".py",
   "mimetype": "text/x-python",
   "name": "python",
   "nbconvert_exporter": "python",
   "pygments_lexer": "ipython3",
   "version": "3.10.12"
  }
 },
 "nbformat": 4,
 "nbformat_minor": 2
}
