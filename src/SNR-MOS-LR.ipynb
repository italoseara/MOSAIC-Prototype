{
 "cells": [
  {
   "cell_type": "markdown",
   "metadata": {},
   "source": [
    "# Importing Required Libraries"
   ]
  },
  {
   "cell_type": "code",
   "execution_count": 8,
   "metadata": {},
   "outputs": [],
   "source": [
    "import numpy as np\n",
    "import pandas as pd\n",
    "import ipywidgets as widgets\n",
    "from typing import Literal"
   ]
  },
  {
   "cell_type": "markdown",
   "metadata": {},
   "source": [
    "# Constants"
   ]
  },
  {
   "cell_type": "code",
   "execution_count": 9,
   "metadata": {},
   "outputs": [],
   "source": [
    "ZERO_POINT = -48.6 # erg/s/cm^2/Hz\n",
    "PLANCK_CONSTANT = 6.63e-34 # J.s\n",
    "VELOCITY_OF_LIGHT = 299792458 # m/s"
   ]
  },
  {
   "cell_type": "markdown",
   "metadata": {},
   "source": [
    "# Parameters"
   ]
  },
  {
   "cell_type": "code",
   "execution_count": 10,
   "metadata": {},
   "outputs": [],
   "source": [
    "# Instrument\n",
    "class MOS_VIS:\n",
    "    RESOLUTION: int = 5000\n",
    "    APERTURE_DIAMETER: float = 0.7 # arcsec\n",
    "    FIBERS_PER_APERTURE: 7\n",
    "    SPACIAL_SAMPLING: int = 5 # pixels\n",
    "    SPECTRAL_SAMPLING: int = 5 # pixels\n",
    "    PIXELS_PER_OBJECT: int = 175\n",
    "\n",
    "class MOS_NIR:\n",
    "    RESOLUTION: int = 5000\n",
    "    APERTURE_DIAMETER: float = 0.6 # arcsec\n",
    "    FIBERS_PER_APERTURE: 7\n",
    "    SPACIAL_SAMPLING: int = 3 # pixels\n",
    "    SPECTRAL_SAMPLING: int = 3 # pixels\n",
    "    PIXELS_PER_OBJECT: int = 63\n",
    "\n",
    "class IFU:\n",
    "    RESOLUTION: int = 5000\n",
    "    SPAXEL_SIZE: float = 0.15 # arcsec\n",
    "    SPACIAL_SAMPLING: int = 3 # pixels\n",
    "    SPECTRAL_SAMPLING: int = 3 # pixels\n",
    "    SPAXELS_PER_SPAXEL: int = 27\n",
    "\n",
    "MOS = { 'VIS': MOS_VIS, 'NIR': MOS_NIR }\n",
    "\n",
    "# Detector\n",
    "class DETECTOR_VIS:\n",
    "    DARK_CURRENT: float = 10/3600 # e/s/pixel\n",
    "    RON = 3 # e/pixel\n",
    "\n",
    "class DETECTOR_NIR:\n",
    "    DARK_CURRENT: float = 0.01 # e/s/pixel\n",
    "    RON = 3 # e/pixel\n",
    "\n",
    "DETECTORS = { 'VIS': DETECTOR_VIS, 'NIR': DETECTOR_NIR }\n",
    "\n",
    "# Telescope\n",
    "ELT_DIAMETER: float = 38.542 # m"
   ]
  },
  {
   "cell_type": "markdown",
   "metadata": {},
   "source": [
    "# Download dataset in Google Colab"
   ]
  },
  {
   "cell_type": "code",
   "execution_count": 11,
   "metadata": {},
   "outputs": [],
   "source": [
    "try:\n",
    "    import google.colab\n",
    "    IN_COLAB = True\n",
    "except ImportError:\n",
    "    IN_COLAB = False\n",
    "\n",
    "# If we're in Colab, we need to download the data folder from GitHub\n",
    "if IN_COLAB:\n",
    "    import os\n",
    "    \n",
    "    # Check if the data directory already exists or not\n",
    "    if not 'data' in os.listdir():\n",
    "        print(\"Downloading data...\")\n",
    "        os.makedirs(\"data\", exist_ok=True)\n",
    "\n",
    "        for file in [\"Background.csv\", \"EE.csv\", \"Throughput.csv\"]:\n",
    "            os.system(f\"wget https://github.com/italoseara/MOSAIC-Prototype/raw/main/data/{file} -O {file}\")\n",
    "            print(f\"Downloaded {file}\")\n",
    "\n",
    "DATA_DIR = \"./data\" if IN_COLAB else \"../data\""
   ]
  },
  {
   "cell_type": "markdown",
   "metadata": {},
   "source": [
    "# Initialize Tables"
   ]
  },
  {
   "cell_type": "code",
   "execution_count": 12,
   "metadata": {},
   "outputs": [],
   "source": [
    "class LookupTable:\n",
    "    \"\"\"A class to represent a lookup table for retrieving data from a CSV file.\"\"\"\n",
    "\n",
    "    _df: pd.DataFrame\n",
    "    _col: str\n",
    "    \n",
    "    def __init__(self, csv_file: str, col: str, **kwargs) -> None:\n",
    "        self._df = pd.read_csv(csv_file, **kwargs)\n",
    "        self._col = col\n",
    "\n",
    "    def get(self, key: float) -> dict[str, float]:\n",
    "        closest_index = self._df[self._col].sub(key).abs().idxmin()\n",
    "        return self._df.loc[closest_index].to_dict()\n",
    "\n",
    "gt_table = LookupTable(f\"{DATA_DIR}/Throughput.csv\", \"Wavelength LR\")\n",
    "ee_table = LookupTable(f\"{DATA_DIR}/EE.csv\", \"Wavelength\")\n",
    "bg_table = LookupTable(f\"{DATA_DIR}/Background.csv\", \"Wavelength\")"
   ]
  },
  {
   "cell_type": "markdown",
   "metadata": {},
   "source": [
    "# Funcion Definitions"
   ]
  },
  {
   "cell_type": "code",
   "execution_count": 13,
   "metadata": {},
   "outputs": [],
   "source": [
    "def signal_to_noise_ratio(\n",
    "    ndit: int, \n",
    "    dit: int,\n",
    "    wavelength: float,\n",
    "    source: float,\n",
    "    sky_condition: Literal[\"Sky ALL\", \"Sky NO MOON\", \"Sky ALL+Th\", \"Sky NO MOON+Th\"], \n",
    "    instrument: Literal[\"MOS VIS\", \"MOS NIR\", \"IFU\"],\n",
    ") -> float:\n",
    "    \"\"\"Calculate the signal-to-noise ratio for a given observation.\"\"\"\n",
    "\n",
    "    if instrument == \"IFU\":\n",
    "        print(\"IFU is not supported yet.\")\n",
    "        return\n",
    "\n",
    "    band = instrument.split(\" \")[1]\n",
    "\n",
    "    # Get the throughput, encircled energy and sky noise for the given wavelength\n",
    "    gt = gt_table.get(wavelength)[f\"{band}-LR\"]\n",
    "    ee = ee_table.get(wavelength * 1000)[f\"EE-LR-ZA45 Durham {band}\"]\n",
    "    sky_noise = bg_table.get(wavelength * 1000)[sky_condition]\n",
    "\n",
    "    print(f\"Global throughput: {gt * 100:.2f}%\")\n",
    "    print(f\"Encircled energy: {ee * 100:.2f}%\")\n",
    "    print(f\"Sky noise: {sky_noise:.2f} e/s/pixel\")\n",
    "\n",
    "    # Calculate the flux\n",
    "    wavelength_m = wavelength * 1e-6\n",
    "    elt_area = np.pi * (ELT_DIAMETER * 100 /2)**2\n",
    "    energy_per_photon = (VELOCITY_OF_LIGHT * PLANCK_CONSTANT) / (wavelength_m) * 1e7\n",
    "\n",
    "    flux = (\n",
    "        10**(-0.4 * (source - ZERO_POINT)) / energy_per_photon * \n",
    "        VELOCITY_OF_LIGHT / (wavelength_m)**2 * elt_area *\n",
    "        wavelength_m / MOS[band].RESOLUTION *\n",
    "        ee * gt\n",
    "    )\n",
    "    counts = flux * dit\n",
    "\n",
    "    print(f\"Flux: {flux:.2f} ph/s/DIT\")\n",
    "    print(f\"Counts: {counts:.2f} ph/DIT\")\n",
    "    \n",
    "    # Calculate the background noise flux\n",
    "    elt_area = np.pi * (ELT_DIAMETER / 2)**2\n",
    "    aperture_area = np.pi * (MOS[band].APERTURE_DIAMETER / 2)**2\n",
    "\n",
    "    bg_flux = sky_noise * elt_area * (wavelength / MOS[band].RESOLUTION) * aperture_area * gt\n",
    "    bg_counts = bg_flux * dit\n",
    "\n",
    "    print(f\"Background flux: {bg_flux:.2f} ph/s/DIT\")\n",
    "    print(f\"Background counts: {bg_counts:.2f} ph/DIT\")\n",
    "\n",
    "    snr = counts * np.sqrt(ndit) / np.sqrt(\n",
    "        counts + bg_counts + DETECTORS[band].RON**2 *\n",
    "        MOS[band].PIXELS_PER_OBJECT + DETECTORS[band].DARK_CURRENT *\n",
    "        dit * MOS[band].PIXELS_PER_OBJECT\n",
    "    )\n",
    "\n",
    "    print(f\"\\nS/R: {snr:.2f}\")\n",
    "    return snr"
   ]
  },
  {
   "cell_type": "markdown",
   "metadata": {},
   "source": [
    "# Interactive User Inputs"
   ]
  },
  {
   "cell_type": "code",
   "execution_count": 18,
   "metadata": {},
   "outputs": [
    {
     "data": {
      "application/vnd.jupyter.widget-view+json": {
       "model_id": "d12779b7137246138066b64d630529d2",
       "version_major": 2,
       "version_minor": 0
      },
      "text/plain": [
       "interactive(children=(IntSlider(value=60, description='Number of exposures', layout=Layout(width='400px'), min…"
      ]
     },
     "metadata": {},
     "output_type": "display_data"
    }
   ],
   "source": [
    "style = {'description_width': '150px'}\n",
    "layout = {'width': '400px'}\n",
    "\n",
    "ndit_w = widgets.IntSlider(\n",
    "    value=60, min=1, max=100, step=1,\n",
    "    description=\"Number of exposures\", \n",
    "    style=style, layout=layout)\n",
    "dit_w = widgets.IntSlider(\n",
    "    value=300, min=1, max=3600, step=1,\n",
    "    description=\"Exposure time (s)\", \n",
    "    style=style, layout=layout)\n",
    "wavelength_w = widgets.FloatSlider(\n",
    "    value=0.45, min=0.3, max=1.9, step=0.05,\n",
    "    description=\"Wavelength (um)\", \n",
    "    style=style, layout=layout)\n",
    "source_w = widgets.FloatSlider(\n",
    "    value=21, min=0, max=100, step=1, \n",
    "    description=\"Source magnitude\",\n",
    "    style=style, layout=layout)\n",
    "sky_w = widgets.Dropdown(\n",
    "    value=\"Sky NO MOON+Th\",\n",
    "    options=[\"Sky ALL\", \"Sky NO MOON\", \"Sky ALL+Th\", \"Sky NO MOON+Th\"],\n",
    "    description=\"Sky condition\",\n",
    "    style=style, layout=layout)\n",
    "instrument_w = widgets.Dropdown(\n",
    "    options=[\"MOS VIS\", \"MOS NIR\", \"IFU\"],\n",
    "    description=\"Instrument\",\n",
    "    style=style, layout=layout)\n",
    "\n",
    "widgets.interactive(\n",
    "    signal_to_noise_ratio,\n",
    "    ndit=ndit_w, dit=dit_w,\n",
    "    wavelength=wavelength_w,\n",
    "    source=source_w,\n",
    "    sky_condition=sky_w,\n",
    "    instrument=instrument_w)"
   ]
  }
 ],
 "metadata": {
  "kernelspec": {
   "display_name": ".venv",
   "language": "python",
   "name": "python3"
  },
  "language_info": {
   "codemirror_mode": {
    "name": "ipython",
    "version": 3
   },
   "file_extension": ".py",
   "mimetype": "text/x-python",
   "name": "python",
   "nbconvert_exporter": "python",
   "pygments_lexer": "ipython3",
   "version": "3.10.12"
  }
 },
 "nbformat": 4,
 "nbformat_minor": 2
}
