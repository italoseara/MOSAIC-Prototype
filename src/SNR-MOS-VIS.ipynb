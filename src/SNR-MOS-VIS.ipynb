{
 "cells": [
  {
   "cell_type": "markdown",
   "metadata": {},
   "source": [
    "# Calculating the Flux\n",
    "\n",
    "Let:\n",
    "- $\\lambda$ be the wavelength in $\\mu m$,\n",
    "- $r$ be the radius of the telescope in $cm$,\n",
    "- $E_{\\text{ph}}$ be the energy per photon in $erg$,\n",
    "- $F$ be the flux in $ph/s/DIT$ where $DIT$ is the detector integration time in $s$,\n",
    "- $r$ be the telescope radius in $cm$,\n",
    "- $c$ be the speed of light in $m/s$,\n",
    "- $h$ be Planck's constant in $J \\cdot s$,\n",
    "- $R_{\\text{vis}}$ be the resolution,\n",
    "- $e_{\\text{vis}}$ be the ?? in %\n",
    "- $g_{\\text{vis}}$ be the global throughput in %,\n",
    "- $m_s$ be the source magnitude in $AB mag$,\n",
    "- $m_0$ be the zero-point in $AB mag$.\n",
    "\n",
    "$$\\lambda_m = \\lambda \\times 10^{-6}$$\n",
    "\n",
    "$$E_{\\text{ph}} = \\frac{c \\times h}{\\lambda_m} \\times 10^{7}$$\n",
    "\n",
    "$$F = \\frac{10^{-0.4 \\times (m_s - m_0)}}{E_{\\text{ph}}} \\times \\frac{c}{\\lambda_m^2} \\times \\pi r^2 \\times \\frac{\\lambda_m}{R_{\\text{vis}}} \\times e_{\\text{vis}} \\times g_{\\text{vis}}$$\n",
    "\n",
    "# Calculating the background noise flux\n",
    "\n",
    "Let:\n",
    "- $N_{\\text{sky}}$ be the background sky noise in $ph/s/m^2/\\mu m/arcsec^2$,\n",
    "- $r_{\\text{elt}}$ be the radius of the telescope in $m$,\n",
    "- $r_{\\text{ap}}$ be the radius of the aperture in $m$.\n",
    "\n",
    "$$F_{\\text{bg}} = N_{\\text{sky}} \\times \\pi r_{\\text{elt}}^2 \\times \\frac{\\lambda}{R_{\\text{vis}}} \\times \\pi r_{\\text{ap}}^2 \\times g_{\\text{vis}}$$\n",
    "\n",
    "# Calculating the Signal to Noise Ratio\n",
    "\n",
    "Let:\n",
    "- $C$ be the signal counts in $ph/DIT$,\n",
    "- $C_{\\text{bg}}$ be the background counts in $ph/DIT$,\n",
    "- $\\text{DIT}$ be the detector integration time in $s$,\n",
    "- $\\text{NDIT}$ be the number of detector integrations,\n",
    "- $\\text{RON}_{\\text{vis}}$ be the readout noise in $ph$,\n",
    "- $\\text{DARK}_{\\text{vis}}$ be the dark current in $e/s/pixel$,\n",
    "- $p_{\\text{vis}}$ be the number of pixels,\n",
    "\n",
    "$$C = F \\times \\text{DIT}$$\n",
    "\n",
    "$$C_{\\text{bg}} = F_{\\text{bg}} \\times \\text{DIT}$$\n",
    "\n",
    "$$SNR = \\frac{C \\times \\sqrt{\\text{NDIT}}}{\\sqrt{C + C_{\\text{bg}} + \\text{RON}_{\\text{vis}}^2 \\times p_{\\text{vis}} + \\text{DARK}_{\\text{vis}} \\times \\text{DIT} \\times p_{\\text{vis}}}}$$"
   ]
  },
  {
   "cell_type": "code",
   "execution_count": 7,
   "metadata": {},
   "outputs": [],
   "source": [
    "try:\n",
    "    import google.colab\n",
    "    IN_COLAB = True\n",
    "except ImportError:\n",
    "    IN_COLAB = False\n",
    "\n",
    "# If we're in Colab, we need to download the data folder from GitHub\n",
    "if IN_COLAB:\n",
    "    import os\n",
    "    \n",
    "    # Check if the data directory already exists or not\n",
    "    if not 'data' in os.listdir():\n",
    "        print(\"Downloading data...\")\n",
    "        os.makedirs(\"data\", exist_ok=True)\n",
    "\n",
    "        repository = \"https://github.com/italoseara/MOSAIC-Prototype\"\n",
    "        files = [\"data/Background.csv\", \"data/EE.csv\", \"data/Throughput.csv\"]\n",
    "\n",
    "        for file in files:\n",
    "            os.system(f\"wget {repository}/raw/main/{file} -O {file}\")\n",
    "\n",
    "DATA_DIR = \"./data\" if IN_COLAB else \"../data\""
   ]
  },
  {
   "cell_type": "code",
   "execution_count": 8,
   "metadata": {},
   "outputs": [],
   "source": [
    "import pandas as pd\n",
    "from math import sqrt, pi"
   ]
  },
  {
   "cell_type": "code",
   "execution_count": 9,
   "metadata": {},
   "outputs": [],
   "source": [
    "# Classes that will be used throughout the code\n",
    "\n",
    "class LookupTable:\n",
    "    \"\"\"A class to represent a lookup table for retrieving data from a CSV file.\"\"\"\n",
    "\n",
    "    _df: pd.DataFrame\n",
    "    _col: str\n",
    "    \n",
    "    def __init__(self, csv_file: str, col: str, **kwargs) -> None:\n",
    "        self._df = pd.read_csv(csv_file, **kwargs)\n",
    "        self._col = col\n",
    "\n",
    "    def get(self, key: float) -> dict[str, float]:\n",
    "        # NOTE: The excel file only gets the closest value that is smaller than the input.\n",
    "        # Although I believe the other way would be more appropriate, I will\n",
    "        # keep it as it is for now, to replicate the original behavior.\n",
    "\n",
    "        smaller = self._df[self._df[self._col] <= key]\n",
    "        closest_index = smaller[self._col].sub(key).abs().idxmin()\n",
    "        # closest_index = self._df[self._col].sub(key).abs().idxmin()\n",
    "        \n",
    "        return self._df.loc[closest_index].to_dict()"
   ]
  },
  {
   "cell_type": "code",
   "execution_count": 10,
   "metadata": {},
   "outputs": [],
   "source": [
    "# Constants\n",
    "VELOCITY_OF_LIGHT = 299792458 # m/s\n",
    "PLANCK_CONSTANT = 6.63e-34 # J.s\n",
    "ZERO_POINT = -48.6 # erg/s/cm^2/Hz\n",
    "\n",
    "# Telescope\n",
    "ELT_DIAMETER = 38.542 # m\n",
    "\n",
    "# Instrument\n",
    "RESOLUTION_VIS = 5000\n",
    "N_PIXELS_VIS = 175\n",
    "DARK_CURRENT_VIS = 10 / 3600 # e/s/pixel\n",
    "RON_VIS = 3 # e/pixel\n",
    "APERTURE_DIAMETER = 0.7 # arcsec"
   ]
  },
  {
   "cell_type": "code",
   "execution_count": 11,
   "metadata": {},
   "outputs": [],
   "source": [
    "# Inputs\n",
    "\n",
    "ndit = int(input(\"Enter the number of exposures: \"))\n",
    "dit = float(input(\"Enter the exposure time (s): \"))\n",
    "wavelength = float(input(\"Enter the wavelength (um): \"))\n",
    "source = float(input(\"Enter the source magnitude: \"))\n",
    "sky = input(\"Enter the sky condition (Sky ALL, Sky NO MOON, Sky ALL+Th, Sky NO MOON+Th): \")"
   ]
  },
  {
   "cell_type": "code",
   "execution_count": 12,
   "metadata": {},
   "outputs": [
    {
     "name": "stdout",
     "output_type": "stream",
     "text": [
      "Global Throughput: 0.2133859479030071\n",
      "EE: 0.5511021611116786\n",
      "Sky noise: 529.9697591510001\n"
     ]
    }
   ],
   "source": [
    "# NOTE: The background noise is calculated via other columns in the CSV file, and should not be used as a lookup table. For simplicity, I will use the lookup table to get the values.\n",
    "gt_table = LookupTable(csv_file=f\"{DATA_DIR}/Throughput.csv\", col=\"Wavelength LR\")\n",
    "ee_table = LookupTable(csv_file=f\"{DATA_DIR}/EE.csv\", col=\"Wavelength\") # EE = Encircled Energy\n",
    "\n",
    "gt_vis = gt_table.get(wavelength)[\"VIS-LR\"] # %\n",
    "ee_vis = ee_table.get(wavelength * 1000)[\"EE-HR-ZA45 Durham VIS\"] # %\n",
    "\n",
    "print(f\"Global Throughput: {gt_vis}\")\n",
    "print(f\"EE: {ee_vis}\")\n",
    "\n",
    "# NOTE: Same thing as above, but for the sky noise.\n",
    "bg_table = LookupTable(csv_file=f\"{DATA_DIR}/Background.csv\", col=\"Wavelength\")\n",
    "\n",
    "sky_noise = bg_table.get(wavelength * 1000)[sky] # ph/s/m^2/um/arcsec^2\n",
    "print(f\"Sky noise: {sky_noise}\")"
   ]
  },
  {
   "cell_type": "code",
   "execution_count": 13,
   "metadata": {},
   "outputs": [
    {
     "name": "stdout",
     "output_type": "stream",
     "text": [
      "Flux: 5.982363158868796\n",
      "Counts: 1196.472631773759\n"
     ]
    }
   ],
   "source": [
    "# Calculate the photon flux\n",
    "\n",
    "wavelength_m = wavelength * 1e-6\n",
    "elt_area = pi * (ELT_DIAMETER * 100 / 2)**2\n",
    "energy_per_photon = (VELOCITY_OF_LIGHT * PLANCK_CONSTANT) / (wavelength_m) * 1e7\n",
    "\n",
    "flux = (\n",
    "    10**(-0.4 * (source - ZERO_POINT)) / energy_per_photon * \n",
    "    VELOCITY_OF_LIGHT / (wavelength_m)**2 * elt_area * \n",
    "    wavelength_m / RESOLUTION_VIS * \n",
    "    ee_vis * gt_vis\n",
    ") # ph/s/DIT\n",
    "\n",
    "counts = flux * dit # ph/DIT\n",
    "\n",
    "print(f\"Flux: {flux}\")\n",
    "print(f\"Counts: {counts}\")"
   ]
  },
  {
   "cell_type": "code",
   "execution_count": 14,
   "metadata": {},
   "outputs": [
    {
     "name": "stdout",
     "output_type": "stream",
     "text": [
      "Background flux: 6.093158678942489\n",
      "Background counts: 1218.6317357884977\n"
     ]
    }
   ],
   "source": [
    "# Calculate the background noise flux\n",
    "\n",
    "elt_area = pi * (ELT_DIAMETER / 2)**2 # m^2\n",
    "aperture_area = pi * (APERTURE_DIAMETER / 2)**2 # arcsec^2\n",
    "\n",
    "bg_flux = sky_noise * elt_area * (wavelength / RESOLUTION_VIS) * aperture_area * gt_vis # ph/s/DIT\n",
    "bg_counts = bg_flux * dit # ph/DIT\n",
    "\n",
    "print(f\"Background flux: {bg_flux}\")\n",
    "print(f\"Background counts: {bg_counts}\")"
   ]
  },
  {
   "cell_type": "code",
   "execution_count": 15,
   "metadata": {},
   "outputs": [
    {
     "name": "stdout",
     "output_type": "stream",
     "text": [
      "S/R: 132.33298256021814\n"
     ]
    }
   ],
   "source": [
    "# Calculate the SNR\n",
    "\n",
    "snr = counts * sqrt(ndit) / sqrt(counts + bg_counts + RON_VIS**2 * N_PIXELS_VIS + DARK_CURRENT_VIS * dit * N_PIXELS_VIS)\n",
    "\n",
    "print(f\"S/R: {snr}\")"
   ]
  }
 ],
 "metadata": {
  "kernelspec": {
   "display_name": ".venv",
   "language": "python",
   "name": "python3"
  },
  "language_info": {
   "codemirror_mode": {
    "name": "ipython",
    "version": 3
   },
   "file_extension": ".py",
   "mimetype": "text/x-python",
   "name": "python",
   "nbconvert_exporter": "python",
   "pygments_lexer": "ipython3",
   "version": "3.10.12"
  }
 },
 "nbformat": 4,
 "nbformat_minor": 2
}
