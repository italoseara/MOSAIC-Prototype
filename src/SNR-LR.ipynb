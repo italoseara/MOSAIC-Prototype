{
 "cells": [
  {
   "cell_type": "markdown",
   "metadata": {},
   "source": [
    "# Download dataset in Google Colab"
   ]
  },
  {
   "cell_type": "code",
   "execution_count": 117,
   "metadata": {},
   "outputs": [],
   "source": [
    "try:\n",
    "    import google.colab\n",
    "    IN_COLAB = True\n",
    "except ImportError:\n",
    "    IN_COLAB = False\n",
    "\n",
    "# If we're in Colab, we need to download the data folder from GitHub\n",
    "if IN_COLAB:\n",
    "    import os\n",
    "    \n",
    "    # Check if the data directory already exists or not\n",
    "    if not 'data' in os.listdir():\n",
    "        print(\"Downloading data...\")\n",
    "        os.makedirs(\"data\", exist_ok=True)\n",
    "\n",
    "        for file in [\"Background.csv\", \"EE.csv\", \"Throughput.csv\"]:\n",
    "            os.system(f\"wget https://github.com/italoseara/MOSAIC-Prototype/raw/main/data/{file} -O {file}\")\n",
    "            print(f\"Downloaded {file}\")\n",
    "\n",
    "DATA_DIR = \"./data\" if IN_COLAB else \"../data\""
   ]
  },
  {
   "cell_type": "markdown",
   "metadata": {},
   "source": [
    "# Importing Required Libraries"
   ]
  },
  {
   "cell_type": "code",
   "execution_count": 118,
   "metadata": {},
   "outputs": [],
   "source": [
    "import numpy as np\n",
    "import pandas as pd\n",
    "import ipywidgets as widgets\n",
    "from typing import Literal"
   ]
  },
  {
   "cell_type": "markdown",
   "metadata": {},
   "source": [
    "# Constants"
   ]
  },
  {
   "cell_type": "code",
   "execution_count": 119,
   "metadata": {},
   "outputs": [],
   "source": [
    "ZERO_POINT = -48.6 # erg/s/cm^2/Hz\n",
    "PLANCK_CONSTANT = 6.63e-34 # J.s\n",
    "VELOCITY_OF_LIGHT = 299792458 # m/s"
   ]
  },
  {
   "cell_type": "markdown",
   "metadata": {},
   "source": [
    "# Parameters"
   ]
  },
  {
   "cell_type": "code",
   "execution_count": 120,
   "metadata": {},
   "outputs": [],
   "source": [
    "# Instrument\n",
    "class MOS_VIS:\n",
    "    RESOLUTION: int = 5000\n",
    "    APERTURE_DIAMETER: float = 0.7 # arcsec\n",
    "    FIBERS_PER_APERTURE: 7\n",
    "    SPACIAL_SAMPLING: int = 5 # pixels\n",
    "    SPECTRAL_SAMPLING: int = 5 # pixels\n",
    "    PIXELS_PER_OBJECT: int = 175\n",
    "\n",
    "class MOS_NIR:\n",
    "    RESOLUTION: int = 5000\n",
    "    APERTURE_DIAMETER: float = 0.6 # arcsec\n",
    "    FIBERS_PER_APERTURE: 7\n",
    "    SPACIAL_SAMPLING: int = 3 # pixels\n",
    "    SPECTRAL_SAMPLING: int = 3 # pixels\n",
    "    PIXELS_PER_OBJECT: int = 63\n",
    "\n",
    "class IFU:\n",
    "    RESOLUTION: int = 5000\n",
    "    SPAXEL_SIZE: float = 0.15 # arcsec\n",
    "    SPACIAL_SAMPLING: int = 3 # pixels\n",
    "    SPECTRAL_SAMPLING: int = 3 # pixels\n",
    "    SPAXELS_PER_SPAXEL: int = 27\n",
    "\n",
    "MOS = { 'VIS': MOS_VIS, 'NIR': MOS_NIR }\n",
    "\n",
    "# Detector\n",
    "class DETECTOR_VIS:\n",
    "    DARK_CURRENT: float = 10/3600 # e/s/pixel\n",
    "    RON = 3 # e/pixel\n",
    "\n",
    "class DETECTOR_NIR:\n",
    "    DARK_CURRENT: float = 0.01 # e/s/pixel\n",
    "    RON = 3 # e/pixel\n",
    "\n",
    "DETECTORS = { 'VIS': DETECTOR_VIS, 'NIR': DETECTOR_NIR }\n",
    "\n",
    "# Telescope\n",
    "ELT_DIAMETER: float = 38.542 # m"
   ]
  },
  {
   "cell_type": "markdown",
   "metadata": {},
   "source": [
    "# Initialize Tables"
   ]
  },
  {
   "cell_type": "code",
   "execution_count": 121,
   "metadata": {},
   "outputs": [],
   "source": [
    "class LookupTable:\n",
    "    \"\"\"A class to represent a lookup table for retrieving data from a CSV file.\"\"\"\n",
    "\n",
    "    _df: pd.DataFrame\n",
    "    _col: str\n",
    "    \n",
    "    def __init__(self, csv_file: str, col: str, **kwargs) -> None:\n",
    "        self._df = pd.read_csv(csv_file, **kwargs)\n",
    "        self._col = col\n",
    "\n",
    "    def get(self, key: float) -> dict[str, float]:\n",
    "        closest_index = self._df[self._col].sub(key).abs().idxmin()\n",
    "        return self._df.loc[closest_index].to_dict()\n",
    "\n",
    "gt_table = LookupTable(f\"{DATA_DIR}/Throughput.csv\", \"Wavelength LR\")\n",
    "ee_table = LookupTable(f\"{DATA_DIR}/EE.csv\", \"Wavelength\")\n",
    "bg_table = LookupTable(f\"{DATA_DIR}/Background.csv\", \"Wavelength\")"
   ]
  },
  {
   "cell_type": "markdown",
   "metadata": {},
   "source": [
    "# Signal to noise ratio\n",
    "\n",
    "Let:\n",
    "- $c$ be the speed of light in $m/s$.\n",
    "- $h$ be the Planck constant in $J.s$.\n",
    "- $t$ be the detector integration time in $s$.\n",
    "- $n$ be the number of DITs.\n",
    "- $\\lambda$ be the wavelength in $\\mu m$.\n",
    "- $m$ be the magnitude of the source in $AB mag$.\n",
    "- $m_0$ be the zero point magnitude in $AB mag$.\n",
    "- $T_g$ be the global throughput in %.\n",
    "- $E_e$ be the enclosed energy in %.\n",
    "- $N_{out}$ be the readout noise in $e$.\n",
    "- $N_{sky}$ be the sky background noise in $e/s/pixel$.\n",
    "- $r_{elt}$ be the radius of the ELT in $m$.\n",
    "- $r_{ap}$ be the aperture radius of the instrument in $arcsec$.\n",
    "- $R$ be the resolution of the instrument.\n",
    "- $E_{ph}$ be the energy of a photon in $J$.\n",
    "- $F$ be the flux in $ph/s^2$\n",
    "- $C$ be the number of counts in $ph/s$.\n",
    "- $F_{bg}$ be the background flux in $ph/s^2$.\n",
    "- $C_{bg}$ be the number of background counts in $ph/s$.\n",
    "- $I_{dark}$ be the dark current in $e/s/pixel$.\n",
    "- $P_{obj}$ be the pixels per object.\n",
    "- $S/N$ be the signal to noise ratio.\n",
    "\n",
    "$$E_{ph} = \\frac{c \\cdot h}{10 \\cdot \\lambda}$$\n",
    "\n",
    "&nbsp;\n",
    "\n",
    "$$F = \\frac{10^{-0.4 (m - m_0)}}{E_{ph} \\cdot \\lambda \\cdot R} \\cdot 10^{-4} \\cdot c \\cdot \\pi r_{elt}^2 \\cdot E_e \\cdot T_g$$\n",
    "\n",
    "$$C = F \\cdot t$$\n",
    "\n",
    "&nbsp;\n",
    "\n",
    "$$F_{bg} = \\lambda \\cdot N_{sky} \\cdot \\pi r_{elt}^2 \\cdot \\pi r_{ap}^2 \\cdot T_g \\cdot R^{-1}$$\n",
    "\n",
    "$$C_{bg} = F_{bg} \\cdot t$$\n",
    "\n",
    "&nbsp;\n",
    "\n",
    "$$S/N = \\frac{n \\sqrt{C}}{C + C_{bg} + N_{out}^2 \\cdot P_{obj} + I_{dark} \\cdot P_{obj} \\cdot t}$$"
   ]
  },
  {
   "cell_type": "code",
   "execution_count": 122,
   "metadata": {},
   "outputs": [],
   "source": [
    "def signal_to_noise_ratio(\n",
    "    ndit: int,\n",
    "    dit: int,\n",
    "    wavelength: float,\n",
    "    source: float,\n",
    "    sky_condition: Literal[\"Sky ALL\", \"Sky NO MOON\", \"Sky ALL+Th\", \"Sky NO MOON+Th\"], \n",
    "    instrument: Literal[\"MOS VIS\", \"MOS NIR\", \"IFU\"],\n",
    ") -> float:\n",
    "    \"\"\"Calculate the signal-to-noise ratio for a given observation.\"\"\"\n",
    "\n",
    "    if instrument == \"IFU\":\n",
    "        print(\"IFU is not supported yet.\")\n",
    "        return\n",
    "\n",
    "    band = instrument.split(\" \")[1]\n",
    "\n",
    "    # Get the throughput, enclosed energy and sky noise for the given wavelength\n",
    "    global_throughput = gt_table.get(wavelength)[f\"{band}-LR\"]\n",
    "    enclosed_energy = ee_table.get(wavelength * 1000)[f\"EE-LR-ZA45 Durham {band}\"]\n",
    "    sky_noise = bg_table.get(wavelength * 1000)[sky_condition]\n",
    "\n",
    "    print(f\"Global throughput: {global_throughput * 100:.2f}%\")\n",
    "    print(f\"Enclosed energy: {enclosed_energy * 100:.2f}%\")\n",
    "    print(f\"Sky noise: {sky_noise:.2f} e/s/pixel\")\n",
    "\n",
    "    # Calculate the flux\n",
    "    energy_ph = (VELOCITY_OF_LIGHT * PLANCK_CONSTANT) / (10 * wavelength)\n",
    "    area_elt = np.pi * (ELT_DIAMETER / 2)**2\n",
    "\n",
    "    flux = (10**(-0.4 * (source - ZERO_POINT))) / (energy_ph * wavelength * MOS[band].RESOLUTION) * 10**-4 * VELOCITY_OF_LIGHT * area_elt * enclosed_energy * global_throughput\n",
    "    counts = flux * dit\n",
    "\n",
    "    print(f\"Flux: {flux:.2f} ph/s/DIT\")\n",
    "    print(f\"Counts: {counts:.2f} ph/DIT\")\n",
    "    \n",
    "    # Calculate the background noise flux\n",
    "    area_ap = np.pi * (MOS[band].APERTURE_DIAMETER / 2)**2\n",
    "\n",
    "    bg_flux = wavelength * sky_noise * area_elt * area_ap * global_throughput * (1/MOS[band].RESOLUTION)\n",
    "    bg_counts = bg_flux * dit\n",
    "\n",
    "    print(f\"Background flux: {bg_flux:.2f} ph/s/DIT\")\n",
    "    print(f\"Background counts: {bg_counts:.2f} ph/DIT\")\n",
    "\n",
    "    snr = counts * np.sqrt(ndit) / np.sqrt(\n",
    "        counts + bg_counts + DETECTORS[band].RON**2 *\n",
    "        MOS[band].PIXELS_PER_OBJECT + DETECTORS[band].DARK_CURRENT *\n",
    "        dit * MOS[band].PIXELS_PER_OBJECT\n",
    "    )\n",
    "\n",
    "    print(f\"\\nS/R: {snr:.2f}\")\n",
    "    return snr"
   ]
  },
  {
   "cell_type": "markdown",
   "metadata": {},
   "source": [
    "# Interactive User Inputs"
   ]
  },
  {
   "cell_type": "code",
   "execution_count": 123,
   "metadata": {},
   "outputs": [
    {
     "data": {
      "application/vnd.jupyter.widget-view+json": {
       "model_id": "e9faf591b4274ffa9e24a0f4088876eb",
       "version_major": 2,
       "version_minor": 0
      },
      "text/plain": [
       "interactive(children=(IntSlider(value=60, description='Number of exposures', layout=Layout(width='400px'), min…"
      ]
     },
     "metadata": {},
     "output_type": "display_data"
    }
   ],
   "source": [
    "style = {'description_width': '150px'}\n",
    "layout = {'width': '400px'}\n",
    "\n",
    "ndit_w = widgets.IntSlider(\n",
    "    value=60, min=1, max=100, step=1,\n",
    "    description=\"Number of exposures\", \n",
    "    style=style, layout=layout)\n",
    "dit_w = widgets.IntSlider(\n",
    "    value=300, min=1, max=3600, step=1,\n",
    "    description=\"Exposure time (s)\", \n",
    "    style=style, layout=layout)\n",
    "wavelength_w = widgets.FloatSlider(\n",
    "    value=0.45, min=0.3, max=1.9, step=0.05,\n",
    "    description=\"Wavelength (um)\", \n",
    "    style=style, layout=layout)\n",
    "source_w = widgets.FloatSlider(\n",
    "    value=21, min=0, max=100, step=1, \n",
    "    description=\"Source magnitude\",\n",
    "    style=style, layout=layout)\n",
    "sky_w = widgets.Dropdown(\n",
    "    value=\"Sky NO MOON+Th\",\n",
    "    options=[\"Sky ALL\", \"Sky NO MOON\", \"Sky ALL+Th\", \"Sky NO MOON+Th\"],\n",
    "    description=\"Sky condition\",\n",
    "    style=style, layout=layout)\n",
    "instrument_w = widgets.Dropdown(\n",
    "    options=[\"MOS VIS\", \"MOS NIR\", \"IFU\"],\n",
    "    description=\"Instrument\",\n",
    "    style=style, layout=layout)\n",
    "\n",
    "widgets.interactive(\n",
    "    signal_to_noise_ratio,\n",
    "    ndit=ndit_w, dit=dit_w,\n",
    "    wavelength=wavelength_w,\n",
    "    source=source_w,\n",
    "    sky_condition=sky_w,\n",
    "    instrument=instrument_w)"
   ]
  }
 ],
 "metadata": {
  "kernelspec": {
   "display_name": ".venv",
   "language": "python",
   "name": "python3"
  },
  "language_info": {
   "codemirror_mode": {
    "name": "ipython",
    "version": 3
   },
   "file_extension": ".py",
   "mimetype": "text/x-python",
   "name": "python",
   "nbconvert_exporter": "python",
   "pygments_lexer": "ipython3",
   "version": "3.10.12"
  }
 },
 "nbformat": 4,
 "nbformat_minor": 2
}
